{
 "cells": [
  {
   "cell_type": "code",
   "execution_count": 131,
   "id": "54067ef1-9023-41a2-9903-dd24e0dc914f",
   "metadata": {
    "collapsed": true,
    "jupyter": {
     "outputs_hidden": true
    },
    "tags": []
   },
   "outputs": [
    {
     "ename": "OSError",
     "evalue": "Bitstream file ./ps_gpio_kv260.bit does not exist.",
     "output_type": "error",
     "traceback": [
      "\u001b[0;31m---------------------------------------------------------------------------\u001b[0m",
      "\u001b[0;31mOSError\u001b[0m                                   Traceback (most recent call last)",
      "\u001b[0;32m<ipython-input-131-cd60caa619e2>\u001b[0m in \u001b[0;36m<module>\u001b[0;34m\u001b[0m\n\u001b[1;32m      1\u001b[0m \u001b[0;32mfrom\u001b[0m \u001b[0mpynq\u001b[0m \u001b[0;32mimport\u001b[0m \u001b[0mOverlay\u001b[0m\u001b[0;34m\u001b[0m\u001b[0;34m\u001b[0m\u001b[0m\n\u001b[0;32m----> 2\u001b[0;31m \u001b[0mps_gpio_design\u001b[0m \u001b[0;34m=\u001b[0m \u001b[0mOverlay\u001b[0m\u001b[0;34m(\u001b[0m\u001b[0;34m\"./ps_gpio_kv260.bit\"\u001b[0m\u001b[0;34m)\u001b[0m\u001b[0;34m\u001b[0m\u001b[0;34m\u001b[0m\u001b[0m\n\u001b[0m",
      "\u001b[0;32m/usr/local/share/pynq-venv/lib/python3.8/site-packages/pynq/overlay.py\u001b[0m in \u001b[0;36m__init__\u001b[0;34m(self, bitfile_name, dtbo, download, ignore_version, device, gen_cache)\u001b[0m\n\u001b[1;32m    313\u001b[0m \u001b[0;34m\u001b[0m\u001b[0m\n\u001b[1;32m    314\u001b[0m         \"\"\"\n\u001b[0;32m--> 315\u001b[0;31m         \u001b[0msuper\u001b[0m\u001b[0;34m(\u001b[0m\u001b[0;34m)\u001b[0m\u001b[0;34m.\u001b[0m\u001b[0m__init__\u001b[0m\u001b[0;34m(\u001b[0m\u001b[0mbitfile_name\u001b[0m\u001b[0;34m,\u001b[0m \u001b[0mdtbo\u001b[0m\u001b[0;34m,\u001b[0m \u001b[0mpartial\u001b[0m\u001b[0;34m=\u001b[0m\u001b[0;32mFalse\u001b[0m\u001b[0;34m,\u001b[0m \u001b[0mdevice\u001b[0m\u001b[0;34m=\u001b[0m\u001b[0mdevice\u001b[0m\u001b[0;34m)\u001b[0m\u001b[0;34m\u001b[0m\u001b[0;34m\u001b[0m\u001b[0m\n\u001b[0m\u001b[1;32m    316\u001b[0m \u001b[0;34m\u001b[0m\u001b[0m\n\u001b[1;32m    317\u001b[0m         \u001b[0mself\u001b[0m\u001b[0;34m.\u001b[0m\u001b[0m_register_drivers\u001b[0m\u001b[0;34m(\u001b[0m\u001b[0;34m)\u001b[0m\u001b[0;34m\u001b[0m\u001b[0;34m\u001b[0m\u001b[0m\n",
      "\u001b[0;32m/usr/local/share/pynq-venv/lib/python3.8/site-packages/pynq/bitstream.py\u001b[0m in \u001b[0;36m__init__\u001b[0;34m(self, bitfile_name, dtbo, partial, device)\u001b[0m\n\u001b[1;32m    116\u001b[0m             \u001b[0mself\u001b[0m\u001b[0;34m.\u001b[0m\u001b[0mbitfile_name\u001b[0m \u001b[0;34m=\u001b[0m \u001b[0mbitfile_overlay_abs_lst\u001b[0m\u001b[0;34m[\u001b[0m\u001b[0;36m0\u001b[0m\u001b[0;34m]\u001b[0m\u001b[0;34m\u001b[0m\u001b[0;34m\u001b[0m\u001b[0m\n\u001b[1;32m    117\u001b[0m         \u001b[0;32melse\u001b[0m\u001b[0;34m:\u001b[0m\u001b[0;34m\u001b[0m\u001b[0;34m\u001b[0m\u001b[0m\n\u001b[0;32m--> 118\u001b[0;31m             \u001b[0;32mraise\u001b[0m \u001b[0mIOError\u001b[0m\u001b[0;34m(\u001b[0m\u001b[0;34m\"Bitstream file {} does not exist.\"\u001b[0m\u001b[0;34m.\u001b[0m\u001b[0mformat\u001b[0m\u001b[0;34m(\u001b[0m\u001b[0mbitfile_name\u001b[0m\u001b[0;34m)\u001b[0m\u001b[0;34m)\u001b[0m\u001b[0;34m\u001b[0m\u001b[0;34m\u001b[0m\u001b[0m\n\u001b[0m\u001b[1;32m    119\u001b[0m \u001b[0;34m\u001b[0m\u001b[0m\n\u001b[1;32m    120\u001b[0m         \u001b[0;32mif\u001b[0m \u001b[0mbitfile_abs\u001b[0m \u001b[0;32mand\u001b[0m \u001b[0mbitfile_overlay_abs_lst\u001b[0m \u001b[0;32mor\u001b[0m \u001b[0mlen\u001b[0m\u001b[0;34m(\u001b[0m\u001b[0mbitfile_overlay_abs_lst\u001b[0m\u001b[0;34m)\u001b[0m \u001b[0;34m>\u001b[0m \u001b[0;36m1\u001b[0m\u001b[0;34m:\u001b[0m\u001b[0;34m\u001b[0m\u001b[0;34m\u001b[0m\u001b[0m\n",
      "\u001b[0;31mOSError\u001b[0m: Bitstream file ./ps_gpio_kv260.bit does not exist."
     ]
    }
   ],
   "source": [
    "from pynq import Overlay\n",
    "ps_gpio_design = Overlay(\"./ps_gpio_kv260.bit\")"
   ]
  },
  {
   "cell_type": "code",
   "execution_count": 135,
   "id": "d6575da8-bbbd-4874-a0a6-8cf3a2503ae6",
   "metadata": {},
   "outputs": [],
   "source": [
    "from pynq import GPIO"
   ]
  },
  {
   "cell_type": "code",
   "execution_count": 147,
   "id": "7745e86d-5a35-4f5e-8ff7-23b3becf5c36",
   "metadata": {
    "tags": []
   },
   "outputs": [],
   "source": [
    "led1 = GPIO(GPIO.get_gpio_pin(5), 'out')\n",
    "led2 = GPIO(GPIO.get_gpio_pin(0), 'out')\n",
    "led3 = GPIO(GPIO.get_gpio_pin(4), 'out')\n",
    "\n",
    "led4 = GPIO(GPIO.get_gpio_pin(2), 'out')\n",
    "led5 = GPIO(GPIO.get_gpio_pin(7), 'out')\n",
    "led6 = GPIO(GPIO.get_gpio_pin(3), 'out')\n",
    "\n",
    "CountDown = GPIO(GPIO.get_gpio_pin(6), 'out')"
   ]
  },
  {
   "cell_type": "code",
   "execution_count": 148,
   "id": "a41490d6-6e6b-4756-9240-9950a16b6269",
   "metadata": {},
   "outputs": [],
   "source": [
    "from time import sleep\n",
    "DELAY = 0.5\n",
    "\n",
    "for i in range(2):\n",
    "    led1.write(0)\n",
    "    led2.write(0)\n",
    "    led3.write(0)\n",
    "    led4.write(0)\n",
    "    led5.write(0)\n",
    "    led6.write(0)\n",
    "    sleep(DELAY)\n",
    "\n",
    "    led1.write(1)\n",
    "    sleep(DELAY)\n",
    "    led2.write(1)\n",
    "    sleep(DELAY)\n",
    "    led3.write(1)\n",
    "    sleep(DELAY)\n",
    "    led4.write(1)\n",
    "    sleep(DELAY)\n",
    "    led5.write(1)\n",
    "    sleep(DELAY)\n",
    "    led6.write(1)\n",
    "    sleep(DELAY)\n",
    "led1.write(0)\n",
    "led2.write(0)\n",
    "led3.write(0)\n",
    "led4.write(0)\n",
    "led5.write(0)\n",
    "led6.write(0)"
   ]
  },
  {
   "cell_type": "code",
   "execution_count": 149,
   "id": "e29e57b1-b824-490c-88c2-994d744014dc",
   "metadata": {},
   "outputs": [],
   "source": [
    "# Reset all to zero\n",
    "led1.write(0)\n",
    "led2.write(0)\n",
    "led3.write(0)\n",
    "\n",
    "led4.write(0)\n",
    "led5.write(0)\n",
    "led6.write(0)\n",
    "CountDown.write(0)"
   ]
  },
  {
   "cell_type": "code",
   "execution_count": 150,
   "id": "117e0f84-d1b8-479d-9a16-68c43ec31c74",
   "metadata": {},
   "outputs": [],
   "source": [
    "# State machine\n",
    "\n",
    "# 1st state\n",
    "led4.write(1)\n",
    "led3.write(1)"
   ]
  },
  {
   "cell_type": "code",
   "execution_count": 157,
   "id": "bb07f265-5ffe-4b9b-9a5b-7bc722ea8224",
   "metadata": {},
   "outputs": [],
   "source": [
    "# 2nd state to 3rd state - When passenger press the button\n",
    "from time import sleep\n",
    "DELAY = 1.5\n",
    "\n",
    "led4.write(0)\n",
    "led3.write(1)\n",
    "led5.write(1)\n",
    "sleep(DELAY)\n",
    "\n",
    "led5.write(0)\n",
    "led6.write(1)\n",
    "sleep(DELAY)\n",
    "\n",
    "led3.write(0)\n",
    "led1.write(1)\n",
    "CountDown.write(1)\n",
    "\n",
    "# 4th state\n",
    "sleep(5)\n",
    "led1.write(0)\n",
    "led2.write(1)\n",
    "CountDown.write(0)\n",
    "sleep(DELAY)\n",
    "\n",
    "led2.write(0)\n",
    "led3.write(1)\n",
    "sleep(DELAY)\n",
    "\n",
    "led4.write(1)\n",
    "led3.write(1)\n",
    "led6.write(0)"
   ]
  },
  {
   "cell_type": "code",
   "execution_count": null,
   "id": "b05609a2-5624-4b57-bb37-ba3600671adb",
   "metadata": {},
   "outputs": [],
   "source": []
  },
  {
   "cell_type": "code",
   "execution_count": null,
   "id": "926dd892-41cf-4d49-86cd-26830751f90e",
   "metadata": {},
   "outputs": [],
   "source": []
  },
  {
   "cell_type": "code",
   "execution_count": null,
   "id": "c6805f24-24fe-413c-b8f8-213f7c919f35",
   "metadata": {},
   "outputs": [],
   "source": []
  },
  {
   "cell_type": "code",
   "execution_count": null,
   "id": "4a389d35-15ba-442e-93dd-a8fbfb247ff0",
   "metadata": {},
   "outputs": [],
   "source": []
  },
  {
   "cell_type": "code",
   "execution_count": null,
   "id": "c1f34ab2-52bf-4bc2-8206-62e9173865cf",
   "metadata": {},
   "outputs": [],
   "source": []
  },
  {
   "cell_type": "code",
   "execution_count": null,
   "id": "9ac1cff4-9714-4d45-826e-06ab92e8c97e",
   "metadata": {},
   "outputs": [],
   "source": []
  },
  {
   "cell_type": "code",
   "execution_count": null,
   "id": "34ab3506-60da-4449-8ce0-6062128da637",
   "metadata": {},
   "outputs": [],
   "source": []
  },
  {
   "cell_type": "code",
   "execution_count": null,
   "id": "76ce7e79-7f1c-4690-927a-87c86573cc0e",
   "metadata": {},
   "outputs": [],
   "source": []
  },
  {
   "cell_type": "code",
   "execution_count": null,
   "id": "75708ff3-d4b5-4445-b101-7b550dd2385e",
   "metadata": {},
   "outputs": [],
   "source": []
  }
 ],
 "metadata": {
  "kernelspec": {
   "display_name": "Python 3",
   "language": "python",
   "name": "python3"
  },
  "language_info": {
   "codemirror_mode": {
    "name": "ipython",
    "version": 3
   },
   "file_extension": ".py",
   "mimetype": "text/x-python",
   "name": "python",
   "nbconvert_exporter": "python",
   "pygments_lexer": "ipython3",
   "version": "3.8.10"
  }
 },
 "nbformat": 4,
 "nbformat_minor": 5
}
